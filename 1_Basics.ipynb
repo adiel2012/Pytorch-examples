{
 "cells": [
  {
   "cell_type": "markdown",
   "metadata": {},
   "source": [
    "## import modules"
   ]
  },
  {
   "cell_type": "code",
   "execution_count": 115,
   "metadata": {},
   "outputs": [],
   "source": [
    "import torch\n",
    "import numpy as np"
   ]
  },
  {
   "cell_type": "code",
   "execution_count": 116,
   "metadata": {},
   "outputs": [
    {
     "output_type": "stream",
     "name": "stdout",
     "text": [
      "tensor([[3., 4., 5.],\n        [6., 7., 8.]])\ntorch.Size([2, 3])\n"
     ]
    }
   ],
   "source": [
    "arr0 = torch.tensor([[3.0, 4.0, 5.0], [6.0, 7.0, 8.0]])\n",
    "print(arr0)\n",
    "print(arr0.shape)"
   ]
  },
  {
   "cell_type": "code",
   "execution_count": 117,
   "metadata": {},
   "outputs": [
    {
     "output_type": "stream",
     "name": "stdout",
     "text": [
      "[[1 2 3]\n [4 5 6]]\ntensor([[1, 2, 3],\n        [4, 5, 6]], dtype=torch.int32)\n"
     ]
    }
   ],
   "source": [
    "arr1 = np.array([[1,2,3],[4,5,6]])\n",
    "print(arr1)\n",
    "t_array1 = torch.from_numpy(arr1)\n",
    "print(t_array1)"
   ]
  },
  {
   "cell_type": "code",
   "execution_count": 118,
   "metadata": {},
   "outputs": [
    {
     "output_type": "stream",
     "name": "stdout",
     "text": [
      "tensor([[0.4963, 0.7682, 0.0885],\n        [0.1320, 0.3074, 0.6341]])\ntorch.Size([2, 3])\n"
     ]
    }
   ],
   "source": [
    "torch.manual_seed(0)\n",
    "arr3 = torch.rand((2,3))\n",
    "print(arr3)\n",
    "print(arr3.shape)"
   ]
  },
  {
   "cell_type": "code",
   "execution_count": 119,
   "metadata": {},
   "outputs": [
    {
     "output_type": "stream",
     "name": "stdout",
     "text": [
      "tensor([[3.4963, 4.7682, 5.0885],\n        [6.1320, 7.3074, 8.6341]])\n"
     ]
    }
   ],
   "source": [
    "print(arr0 + arr3)"
   ]
  },
  {
   "cell_type": "code",
   "execution_count": 120,
   "metadata": {},
   "outputs": [
    {
     "output_type": "stream",
     "name": "stdout",
     "text": [
      "tensor([[1.4888, 3.0729, 0.4424],\n        [0.7922, 2.1520, 5.0726]])\n"
     ]
    }
   ],
   "source": [
    "print(arr0 * arr3)"
   ]
  },
  {
   "cell_type": "code",
   "execution_count": 121,
   "metadata": {},
   "outputs": [
    {
     "output_type": "stream",
     "name": "stdout",
     "text": [
      "tensor([[2.2810, 4.1492, 4.0699],\n",
      "        [2.9092, 5.2248, 4.7925],\n",
      "        [3.5375, 6.3005, 5.5150]])\n",
      "tensor([[2.2810, 4.1492, 4.0699],\n",
      "        [2.9092, 5.2248, 4.7925],\n",
      "        [3.5375, 6.3005, 5.5150]])\n"
     ]
    }
   ],
   "source": [
    "print(arr0.T.matmul(arr3))\n",
    "print(arr3.T.matmul(arr0).T)"
   ]
  },
  {
   "cell_type": "code",
   "execution_count": 122,
   "metadata": {},
   "outputs": [
    {
     "output_type": "stream",
     "name": "stdout",
     "text": [
      "tensor([[33., 44., 55.],\n        [36., 47., 58.]])\n"
     ]
    }
   ],
   "source": [
    "bias = torch.tensor([30.0, 40.0, 50.0])\n",
    "print(arr0 + bias)"
   ]
  }
 ],
 "metadata": {
  "kernelspec": {
   "name": "python3",
   "display_name": "Python 3",
   "language": "python"
  },
  "language_info": {
   "codemirror_mode": {
    "name": "ipython",
    "version": 3
   },
   "file_extension": ".py",
   "mimetype": "text/x-python",
   "name": "python",
   "nbconvert_exporter": "python",
   "pygments_lexer": "ipython3",
   "version": "3.8.0-final"
  }
 },
 "nbformat": 4,
 "nbformat_minor": 4
}