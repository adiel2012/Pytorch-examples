{
 "cells": [
  {
   "cell_type": "markdown",
   "metadata": {},
   "source": [
    "## import modules"
   ]
  },
  {
   "cell_type": "code",
   "execution_count": 14,
   "metadata": {},
   "outputs": [],
   "source": [
    "import torch\n",
    "import numpy as np"
   ]
  },
  {
   "cell_type": "code",
   "execution_count": 15,
   "metadata": {},
   "outputs": [
    {
     "output_type": "stream",
     "name": "stdout",
     "text": [
      "tensor([[3., 4., 5.],\n        [6., 7., 8.]])\ntorch.Size([2, 3])\n"
     ]
    }
   ],
   "source": [
    "arr0 = torch.tensor([[3.0, 4.0, 5.0], [6.0, 7.0, 8.0]])\n",
    "print(arr0)\n",
    "print(arr0.shape)"
   ]
  },
  {
   "cell_type": "code",
   "execution_count": 16,
   "metadata": {},
   "outputs": [
    {
     "output_type": "stream",
     "name": "stdout",
     "text": [
      "[[1 2 3]\n [4 5 6]]\ntensor([[1, 2, 3],\n        [4, 5, 6]], dtype=torch.int32)\n"
     ]
    }
   ],
   "source": [
    "arr1 = np.array([[1,2,3],[4,5,6]])\n",
    "print(arr1)\n",
    "t_array1 = torch.from_numpy(arr1)\n",
    "print(t_array1)"
   ]
  },
  {
   "cell_type": "code",
   "execution_count": 17,
   "metadata": {},
   "outputs": [
    {
     "output_type": "stream",
     "name": "stdout",
     "text": [
      "tensor([[0.4963, 0.7682, 0.0885],\n        [0.1320, 0.3074, 0.6341]])\ntorch.Size([2, 3])\n"
     ]
    }
   ],
   "source": [
    "torch.manual_seed(0)\n",
    "arr3 = torch.rand((2,3))\n",
    "print(arr3)\n",
    "print(arr3.shape)"
   ]
  },
  {
   "cell_type": "code",
   "execution_count": 18,
   "metadata": {},
   "outputs": [
    {
     "output_type": "stream",
     "name": "stdout",
     "text": [
      "tensor([[3.4963, 4.7682, 5.0885],\n        [6.1320, 7.3074, 8.6341]])\n"
     ]
    }
   ],
   "source": [
    "print(arr0 + arr3)"
   ]
  },
  {
   "cell_type": "code",
   "execution_count": 19,
   "metadata": {},
   "outputs": [
    {
     "output_type": "stream",
     "name": "stdout",
     "text": [
      "tensor([[1.4888, 3.0729, 0.4424],\n        [0.7922, 2.1520, 5.0726]])\n"
     ]
    }
   ],
   "source": [
    "print(arr0 * arr3)"
   ]
  },
  {
   "cell_type": "code",
   "execution_count": 20,
   "metadata": {},
   "outputs": [
    {
     "output_type": "stream",
     "name": "stdout",
     "text": [
      "tensor([[2.2810, 4.1492, 4.0699],\n",
      "        [2.9092, 5.2248, 4.7925],\n",
      "        [3.5375, 6.3005, 5.5150]])\n",
      "tensor([[2.2810, 4.1492, 4.0699],\n",
      "        [2.9092, 5.2248, 4.7925],\n",
      "        [3.5375, 6.3005, 5.5150]])\n"
     ]
    }
   ],
   "source": [
    "print(arr0.T.matmul(arr3))\n",
    "print(arr3.T.matmul(arr0).T)"
   ]
  },
  {
   "cell_type": "code",
   "execution_count": 21,
   "metadata": {},
   "outputs": [
    {
     "output_type": "stream",
     "name": "stdout",
     "text": [
      "tensor([[33., 44., 55.],\n        [36., 47., 58.]])\n"
     ]
    }
   ],
   "source": [
    "bias = torch.tensor([30.0, 40.0, 50.0])\n",
    "print(arr0 + bias)"
   ]
  },
  {
   "source": [
    "# einsum"
   ],
   "cell_type": "markdown",
   "metadata": {}
  },
  {
   "source": [
    "## trace"
   ],
   "cell_type": "markdown",
   "metadata": {}
  },
  {
   "cell_type": "code",
   "execution_count": 22,
   "metadata": {},
   "outputs": [
    {
     "output_type": "stream",
     "name": "stdout",
     "text": [
      "tensor([[ 1,  2,  3,  4],\n        [ 5,  6,  7,  8],\n        [ 9, 10, 11, 12],\n        [13, 14, 15, 16]])\n"
     ]
    },
    {
     "output_type": "execute_result",
     "data": {
      "text/plain": [
       "tensor(34)"
      ]
     },
     "metadata": {},
     "execution_count": 22
    }
   ],
   "source": [
    "m1 = torch.tensor([[1,2,3,4],[5,6,7,8],[9,10,11,12],[13,14,15,16]])\n",
    "m2 = torch.tensor([[10,20,30,40],[50,60,70,80],[90,100,110,120],[130,140,150,160]])\n",
    "print(m1)\n",
    "torch.einsum('ii', m1)"
   ]
  },
  {
   "source": [
    "## diagonal"
   ],
   "cell_type": "markdown",
   "metadata": {}
  },
  {
   "cell_type": "code",
   "execution_count": 23,
   "metadata": {},
   "outputs": [
    {
     "output_type": "execute_result",
     "data": {
      "text/plain": [
       "tensor([ 1,  6, 11, 16])"
      ]
     },
     "metadata": {},
     "execution_count": 23
    }
   ],
   "source": [
    "torch.einsum('ii->i', m1)"
   ]
  },
  {
   "source": [
    "## outer product"
   ],
   "cell_type": "markdown",
   "metadata": {}
  },
  {
   "cell_type": "code",
   "execution_count": 25,
   "metadata": {},
   "outputs": [
    {
     "output_type": "execute_result",
     "data": {
      "text/plain": [
       "tensor([[ 10,  20,  30,  40,  50],\n",
       "        [ 20,  40,  60,  80, 100],\n",
       "        [ 30,  60,  90, 120, 150],\n",
       "        [ 40,  80, 120, 160, 200],\n",
       "        [ 50, 100, 150, 200, 250]])"
      ]
     },
     "metadata": {},
     "execution_count": 25
    }
   ],
   "source": [
    "arr1 = torch.tensor([1,2,3,4,5])\n",
    "arr2 = torch.tensor([10,20,30,40,50])\n",
    "torch.einsum('i,j->ij', arr1, arr2)"
   ]
  },
  {
   "source": [
    "## batch matrix multiplication"
   ],
   "cell_type": "markdown",
   "metadata": {}
  },
  {
   "cell_type": "code",
   "execution_count": 26,
   "metadata": {},
   "outputs": [
    {
     "output_type": "execute_result",
     "data": {
      "text/plain": [
       "tensor([[[-1.1223,  2.8596,  0.1298,  1.4445],\n",
       "         [-1.8879, -0.9510,  0.9330, -0.7948]],\n",
       "\n",
       "        [[ 0.9520, -4.9026, -1.3021, -3.0249],\n",
       "         [-0.5488,  1.0961, -1.6959,  0.4218]],\n",
       "\n",
       "        [[-1.7572, -3.7664,  2.5861, -2.6032],\n",
       "         [ 2.2228, -0.8318, -2.5297, -0.6959]]])"
      ]
     },
     "metadata": {},
     "execution_count": 26
    }
   ],
   "source": [
    "As = torch.randn(3,2,5)\n",
    "Bs = torch.randn(3,5,4)\n",
    "torch.einsum('bij,bjk->bik', As, Bs)"
   ]
  },
  {
   "source": [
    "## batch permute"
   ],
   "cell_type": "markdown",
   "metadata": {}
  },
  {
   "cell_type": "code",
   "execution_count": 27,
   "metadata": {},
   "outputs": [
    {
     "output_type": "execute_result",
     "data": {
      "text/plain": [
       "torch.Size([2, 3, 5, 4])"
      ]
     },
     "metadata": {},
     "execution_count": 27
    }
   ],
   "source": [
    "A = torch.randn(2, 3, 4, 5)\n",
    "torch.einsum('...ij->...ji', A).shape"
   ]
  },
  {
   "source": [
    "## equivalent to torch.nn.functional.bilinear"
   ],
   "cell_type": "markdown",
   "metadata": {}
  },
  {
   "cell_type": "code",
   "execution_count": null,
   "metadata": {},
   "outputs": [],
   "source": [
    "A = torch.randn(3,5,4)\n",
    "l = torch.randn(2,5)\n",
    "r = torch.randn(2,4)\n",
    "torch.einsum('bn,anm,bm->ba', l, A, r)"
   ]
  }
 ],
 "metadata": {
  "kernelspec": {
   "name": "python3",
   "display_name": "Python 3",
   "language": "python"
  },
  "language_info": {
   "codemirror_mode": {
    "name": "ipython",
    "version": 3
   },
   "file_extension": ".py",
   "mimetype": "text/x-python",
   "name": "python",
   "nbconvert_exporter": "python",
   "pygments_lexer": "ipython3",
   "version": "3.8.0-final"
  }
 },
 "nbformat": 4,
 "nbformat_minor": 4
}