{
 "cells": [
  {
   "cell_type": "markdown",
   "metadata": {},
   "source": [
    "## import modules"
   ]
  },
  {
   "cell_type": "code",
   "execution_count": 267,
   "metadata": {},
   "outputs": [],
   "source": [
    "import math\n",
    "import torch\n",
    "import torch.nn as nn\n",
    "import numpy as np"
   ]
  },
  {
   "source": [
    "## Initialize Linear Layer "
   ],
   "cell_type": "markdown",
   "metadata": {}
  },
  {
   "cell_type": "code",
   "execution_count": 268,
   "metadata": {},
   "outputs": [
    {
     "output_type": "stream",
     "name": "stdout",
     "text": [
      "tensor([-0.1346, -0.0673, -1.4666,  0.1236], grad_fn=<AddBackward0>)\ntensor([-0.1346, -0.0673, -1.4666,  0.1236], grad_fn=<AddBackward0>)\ntensor([-0.1346, -0.0673, -1.4666,  0.1236], grad_fn=<AddBackward0>)\n"
     ]
    }
   ],
   "source": [
    "# we assume a 256-dimensional input and a 4-dimensional output for this 1-layer neural network\n",
    "# hence, we initialize a 256x4 dimensional matrix filled with random values\n",
    "weights = torch.randn(256, 4) / math.sqrt(256)\n",
    "# we then ensure that the parameters of this neural network ar trainable, that is,\n",
    "#the numbers in the 256x4 matrix can be tuned with the help of backpropagation of gradients\n",
    "weights.requires_grad_()\n",
    "# finally we also add the bias weights for the 4-dimensional output, and make these trainable too\n",
    "bias = torch.zeros(4, requires_grad=True)\n",
    "x = torch.randn(256)\n",
    "alinear0 = torch.matmul(x, weights) + bias\n",
    "print(alinear0)\n",
    "\n",
    "alinear1 = nn.Linear(256, 4)\n",
    "\n",
    "with torch.no_grad():\n",
    "    alinear1.weight.copy_(weights.T)\n",
    "    alinear1.bias.copy_(bias.T)\n",
    "\n",
    "print(alinear0)\n",
    "print(alinear1(x))"
   ]
  },
  {
   "source": [
    "## Initialize with PCA"
   ],
   "cell_type": "markdown",
   "metadata": {}
  },
  {
   "cell_type": "code",
   "execution_count": 269,
   "metadata": {},
   "outputs": [
    {
     "output_type": "stream",
     "name": "stdout",
     "text": [
      "torch.Size([20, 9])\ntorch.Size([300, 9])\n"
     ]
    }
   ],
   "source": [
    "\n",
    "num_features = 20\n",
    "num_components = 9\n",
    "num_patterns = 300\n",
    "\n",
    "x = torch.randn((num_patterns, num_features))\n",
    "x_new = ((x - torch.min(x)) / (torch.max(x) - torch.min(x)))  # interval 0 to 1\n",
    "U, S, V = torch.pca_lowrank(x_new, q=num_components, center=True, niter=30)\n",
    "weights = V[:, :num_components] \n",
    "#print(V.size())\n",
    "\n",
    "weights.requires_grad_()\n",
    "bias = torch.randn(num_components, requires_grad=True)\n",
    "\n",
    "alinear1 = torch.matmul(x_new, weights ) + bias\n",
    "scaled = 2*(((alinear1 - torch.min(alinear1)) / (torch.max(alinear1) - torch.min(alinear1))) - 0.5)  #  interval -1 to 1\n",
    "\n",
    "#print(scales)\n",
    "print(scaled.size())"
   ]
  }
 ],
 "metadata": {
  "kernelspec": {
   "name": "python3",
   "display_name": "Python 3",
   "language": "python"
  },
  "language_info": {
   "codemirror_mode": {
    "name": "ipython",
    "version": 3
   },
   "file_extension": ".py",
   "mimetype": "text/x-python",
   "name": "python",
   "nbconvert_exporter": "python",
   "pygments_lexer": "ipython3",
   "version": "3.8.0-final"
  }
 },
 "nbformat": 4,
 "nbformat_minor": 4
}